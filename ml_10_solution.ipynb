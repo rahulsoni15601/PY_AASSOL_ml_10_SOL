{
 "cells": [
  {
   "cell_type": "markdown",
   "metadata": {},
   "source": [
    "## In this assignment students have to transform iris data into 3 dimensions and plot a 3d chart with transformed dimensions and color each data point with specific class."
   ]
  },
  {
   "cell_type": "code",
   "execution_count": 1,
   "metadata": {},
   "outputs": [],
   "source": [
    "import numpy as np\n",
    "import matplotlib.pyplot as plt\n",
    "from mpl_toolkits.mplot3d import Axes3D as a3d\n",
    "from sklearn import decomposition\n",
    "from sklearn import datasets\n",
    "from sklearn.decomposition import PCA"
   ]
  },
  {
   "cell_type": "code",
   "execution_count": 2,
   "metadata": {},
   "outputs": [],
   "source": [
    "iris = datasets.load_iris()"
   ]
  },
  {
   "cell_type": "code",
   "execution_count": 7,
   "metadata": {},
   "outputs": [
    {
     "name": "stdout",
     "output_type": "stream",
     "text": [
      "Iris Plants Database\n",
      "====================\n",
      "\n",
      "Notes\n",
      "-----\n",
      "Data Set Characteristics:\n",
      "    :Number of Instances: 150 (50 in each of three classes)\n",
      "    :Number of Attributes: 4 numeric, predictive attributes and the class\n",
      "    :Attribute Information:\n",
      "        - sepal length in cm\n",
      "        - sepal width in cm\n",
      "        - petal length in cm\n",
      "        - petal width in cm\n",
      "        - class:\n",
      "                - Iris-Setosa\n",
      "                - Iris-Versicolour\n",
      "                - Iris-Virginica\n",
      "    :Summary Statistics:\n",
      "\n",
      "    ============== ==== ==== ======= ===== ====================\n",
      "                    Min  Max   Mean    SD   Class Correlation\n",
      "    ============== ==== ==== ======= ===== ====================\n",
      "    sepal length:   4.3  7.9   5.84   0.83    0.7826\n",
      "    sepal width:    2.0  4.4   3.05   0.43   -0.4194\n",
      "    petal length:   1.0  6.9   3.76   1.76    0.9490  (high!)\n",
      "    petal width:    0.1  2.5   1.20  0.76     0.9565  (high!)\n",
      "    ============== ==== ==== ======= ===== ====================\n",
      "\n",
      "    :Missing Attribute Values: None\n",
      "    :Class Distribution: 33.3% for each of 3 classes.\n",
      "    :Creator: R.A. Fisher\n",
      "    :Donor: Michael Marshall (MARSHALL%PLU@io.arc.nasa.gov)\n",
      "    :Date: July, 1988\n",
      "\n",
      "This is a copy of UCI ML iris datasets.\n",
      "http://archive.ics.uci.edu/ml/datasets/Iris\n",
      "\n",
      "The famous Iris database, first used by Sir R.A Fisher\n",
      "\n",
      "This is perhaps the best known database to be found in the\n",
      "pattern recognition literature.  Fisher's paper is a classic in the field and\n",
      "is referenced frequently to this day.  (See Duda & Hart, for example.)  The\n",
      "data set contains 3 classes of 50 instances each, where each class refers to a\n",
      "type of iris plant.  One class is linearly separable from the other 2; the\n",
      "latter are NOT linearly separable from each other.\n",
      "\n",
      "References\n",
      "----------\n",
      "   - Fisher,R.A. \"The use of multiple measurements in taxonomic problems\"\n",
      "     Annual Eugenics, 7, Part II, 179-188 (1936); also in \"Contributions to\n",
      "     Mathematical Statistics\" (John Wiley, NY, 1950).\n",
      "   - Duda,R.O., & Hart,P.E. (1973) Pattern Classification and Scene Analysis.\n",
      "     (Q327.D83) John Wiley & Sons.  ISBN 0-471-22361-1.  See page 218.\n",
      "   - Dasarathy, B.V. (1980) \"Nosing Around the Neighborhood: A New System\n",
      "     Structure and Classification Rule for Recognition in Partially Exposed\n",
      "     Environments\".  IEEE Transactions on Pattern Analysis and Machine\n",
      "     Intelligence, Vol. PAMI-2, No. 1, 67-71.\n",
      "   - Gates, G.W. (1972) \"The Reduced Nearest Neighbor Rule\".  IEEE Transactions\n",
      "     on Information Theory, May 1972, 431-433.\n",
      "   - See also: 1988 MLC Proceedings, 54-64.  Cheeseman et al\"s AUTOCLASS II\n",
      "     conceptual clustering system finds 3 classes in the data.\n",
      "   - Many, many more ...\n",
      "\n"
     ]
    }
   ],
   "source": [
    "print(iris.DESCR)"
   ]
  },
  {
   "cell_type": "code",
   "execution_count": 3,
   "metadata": {},
   "outputs": [],
   "source": [
    "dt = iris.data"
   ]
  },
  {
   "cell_type": "code",
   "execution_count": 33,
   "metadata": {},
   "outputs": [
    {
     "name": "stdout",
     "output_type": "stream",
     "text": [
      "Principle component\n",
      "[[ 0.36158968 -0.08226889  0.85657211  0.35884393]\n",
      " [ 0.65653988  0.72971237 -0.1757674  -0.07470647]\n",
      " [-0.58099728  0.59641809  0.07252408  0.54906091]]\n",
      "Transforming in to 3D shape from 4D shape\n"
     ]
    },
    {
     "data": {
      "text/plain": [
       "array([[-2.68420713,  0.32660731, -0.02151184],\n",
       "       [-2.71539062, -0.16955685, -0.20352143],\n",
       "       [-2.88981954, -0.13734561,  0.02470924],\n",
       "       [-2.7464372 , -0.31112432,  0.03767198],\n",
       "       [-2.72859298,  0.33392456,  0.0962297 ],\n",
       "       [-2.27989736,  0.74778271,  0.17432562],\n",
       "       [-2.82089068, -0.08210451,  0.26425109],\n",
       "       [-2.62648199,  0.17040535, -0.01580151],\n",
       "       [-2.88795857, -0.57079803,  0.02733541],\n",
       "       [-2.67384469, -0.1066917 , -0.1915333 ],\n",
       "       [-2.50652679,  0.65193501, -0.069275  ],\n",
       "       [-2.61314272,  0.02152063,  0.10765035],\n",
       "       [-2.78743398, -0.22774019, -0.20032779],\n",
       "       [-3.22520045, -0.50327991,  0.06841363],\n",
       "       [-2.64354322,  1.1861949 , -0.1445057 ],\n",
       "       [-2.38386932,  1.34475434,  0.28373066],\n",
       "       [-2.6225262 ,  0.81808967,  0.14531599],\n",
       "       [-2.64832273,  0.31913667,  0.03339425],\n",
       "       [-2.19907796,  0.87924409, -0.11452146],\n",
       "       [-2.58734619,  0.52047364,  0.21957209],\n",
       "       [-2.3105317 ,  0.39786782, -0.23369561],\n",
       "       [-2.54323491,  0.44003175,  0.21483637],\n",
       "       [-3.21585769,  0.14161557,  0.29961898],\n",
       "       [-2.30312854,  0.10552268,  0.04568004],\n",
       "       [-2.35617109, -0.03120959,  0.12940758],\n",
       "       [-2.50791723, -0.13905634, -0.24711634],\n",
       "       [-2.469056  ,  0.13788731,  0.10126308],\n",
       "       [-2.56239095,  0.37468456, -0.07235916],\n",
       "       [-2.63982127,  0.31929007, -0.13925337],\n",
       "       [-2.63284791, -0.19007583,  0.04646646],\n",
       "       [-2.58846205, -0.19739308, -0.07127507],\n",
       "       [-2.41007734,  0.41808001, -0.13838824],\n",
       "       [-2.64763667,  0.81998263,  0.2305856 ],\n",
       "       [-2.59715948,  1.10002193,  0.16358191],\n",
       "       [-2.67384469, -0.1066917 , -0.1915333 ],\n",
       "       [-2.86699985,  0.0771931 , -0.15684235],\n",
       "       [-2.62522846,  0.60680001, -0.26116316],\n",
       "       [-2.67384469, -0.1066917 , -0.1915333 ],\n",
       "       [-2.98184266, -0.48025005,  0.07972481],\n",
       "       [-2.59032303,  0.23605934, -0.07390124],\n",
       "       [-2.77013891,  0.27105942,  0.08424157],\n",
       "       [-2.85221108, -0.93286537, -0.34096149],\n",
       "       [-2.99829644, -0.33430757,  0.19900842],\n",
       "       [-2.4055141 ,  0.19591726,  0.27071707],\n",
       "       [-2.20883295,  0.44269603,  0.30348781],\n",
       "       [-2.71566519, -0.24268148, -0.09051561],\n",
       "       [-2.53757337,  0.51036755,  0.1719184 ],\n",
       "       [-2.8403213 , -0.22057634,  0.09006138],\n",
       "       [-2.54268576,  0.58628103, -0.01117527],\n",
       "       [-2.70391231,  0.11501085, -0.08269573],\n",
       "       [ 1.28479459,  0.68543919, -0.40612955],\n",
       "       [ 0.93241075,  0.31919809, -0.01712991],\n",
       "       [ 1.46406132,  0.50418983, -0.33826073],\n",
       "       [ 0.18096721, -0.82560394, -0.17708286],\n",
       "       [ 1.08713449,  0.07539039, -0.30654446],\n",
       "       [ 0.64043675, -0.41732348,  0.04118877],\n",
       "       [ 1.09522371,  0.28389121,  0.17002253],\n",
       "       [-0.75146714, -1.00110751,  0.01567219],\n",
       "       [ 1.04329778,  0.22895691, -0.41481457],\n",
       "       [-0.01019007, -0.72057487,  0.28343725],\n",
       "       [-0.5110862 , -1.26249195, -0.26648995],\n",
       "       [ 0.51109806, -0.10228411,  0.13232789],\n",
       "       [ 0.26233576, -0.5478933 , -0.69194158],\n",
       "       [ 0.98404455, -0.12436042, -0.06215743],\n",
       "       [-0.174864  , -0.25181557,  0.09365864],\n",
       "       [ 0.92757294,  0.46823621, -0.3132294 ],\n",
       "       [ 0.65959279, -0.35197629,  0.3283843 ],\n",
       "       [ 0.23454059, -0.33192183, -0.27028067],\n",
       "       [ 0.94236171, -0.54182226, -0.49734854],\n",
       "       [ 0.0432464 , -0.58148945, -0.23296356],\n",
       "       [ 1.11624072, -0.08421401,  0.45984423],\n",
       "       [ 0.35678657, -0.06682383, -0.22747218],\n",
       "       [ 1.29646885, -0.32756152, -0.34751321],\n",
       "       [ 0.92050265, -0.18239036, -0.23161142],\n",
       "       [ 0.71400821,  0.15037915, -0.32037233],\n",
       "       [ 0.89964086,  0.32961098, -0.31477148],\n",
       "       [ 1.33104142,  0.24466952, -0.52124492],\n",
       "       [ 1.55739627,  0.26739258, -0.16463849],\n",
       "       [ 0.81245555, -0.16233157,  0.03634358],\n",
       "       [-0.30733476, -0.36508661, -0.3153372 ],\n",
       "       [-0.07034289, -0.70253793, -0.24175804],\n",
       "       [-0.19188449, -0.67749054, -0.30391654],\n",
       "       [ 0.13499495, -0.31170964, -0.1749733 ],\n",
       "       [ 1.37873698, -0.42120514,  0.0154805 ],\n",
       "       [ 0.58727485, -0.48328427,  0.44458375],\n",
       "       [ 0.8072055 ,  0.19505396,  0.38945871],\n",
       "       [ 1.22042897,  0.40803534, -0.23656609],\n",
       "       [ 0.81286779, -0.370679  , -0.61287105],\n",
       "       [ 0.24519516, -0.26672804,  0.18956248],\n",
       "       [ 0.16451343, -0.67966147, -0.05779924],\n",
       "       [ 0.46303099, -0.66952655, -0.02405389],\n",
       "       [ 0.89016045, -0.03381244, -0.00976803],\n",
       "       [ 0.22887905, -0.40225762, -0.22736271],\n",
       "       [-0.70708128, -1.00842476, -0.10206934],\n",
       "       [ 0.35553304, -0.50321849,  0.01788947],\n",
       "       [ 0.33112695, -0.21118014,  0.08380907],\n",
       "       [ 0.37523823, -0.29162202,  0.07907336],\n",
       "       [ 0.64169028,  0.01907118, -0.20417288],\n",
       "       [-0.90846333, -0.75156873, -0.00773658],\n",
       "       [ 0.29780791, -0.34701652,  0.01217914],\n",
       "       [ 2.53172698, -0.01184224,  0.75845865],\n",
       "       [ 1.41407223, -0.57492506,  0.29639822],\n",
       "       [ 2.61648461,  0.34193529, -0.11214137],\n",
       "       [ 1.97081495, -0.18112569,  0.10653915],\n",
       "       [ 2.34975798, -0.04188255,  0.28411068],\n",
       "       [ 3.39687992,  0.54716805, -0.35187316],\n",
       "       [ 0.51938325, -1.19135169,  0.54668553],\n",
       "       [ 2.9320051 ,  0.35237701, -0.42369128],\n",
       "       [ 2.31967279, -0.24554817, -0.34992218],\n",
       "       [ 2.91813423,  0.78038063,  0.42173893],\n",
       "       [ 1.66193495,  0.2420384 ,  0.24281526],\n",
       "       [ 1.80234045, -0.21615461, -0.03769533],\n",
       "       [ 2.16537886,  0.21528028,  0.03314818],\n",
       "       [ 1.34459422, -0.77641543,  0.28286802],\n",
       "       [ 1.5852673 , -0.53930705,  0.63057049],\n",
       "       [ 1.90474358,  0.11881899,  0.48013808],\n",
       "       [ 1.94924878,  0.04073026,  0.04272909],\n",
       "       [ 3.48876538,  1.17154454,  0.12932008],\n",
       "       [ 3.79468686,  0.25326557, -0.51697072],\n",
       "       [ 1.29832982, -0.76101394, -0.34488705],\n",
       "       [ 2.42816726,  0.37678197,  0.21864907],\n",
       "       [ 1.19809737, -0.60557896,  0.51264077],\n",
       "       [ 3.49926548,  0.45677347, -0.57691019],\n",
       "       [ 1.38766825, -0.20403099, -0.06351132],\n",
       "       [ 2.27585365,  0.33338653,  0.28467815],\n",
       "       [ 2.61419383,  0.55836695, -0.20842335],\n",
       "       [ 1.25762518, -0.179137  ,  0.04697781],\n",
       "       [ 1.29066965, -0.11642525,  0.23161356],\n",
       "       [ 2.12285398, -0.21085488,  0.15351589],\n",
       "       [ 2.3875644 ,  0.46251925, -0.45202396],\n",
       "       [ 2.84096093,  0.37274259, -0.50103154],\n",
       "       [ 3.2323429 ,  1.37052404, -0.11844878],\n",
       "       [ 2.15873837, -0.21832553,  0.20842198],\n",
       "       [ 1.4431026 , -0.14380129, -0.15408297],\n",
       "       [ 1.77964011, -0.50146479, -0.17581119],\n",
       "       [ 3.07652162,  0.68576444, -0.33642274],\n",
       "       [ 2.14498686,  0.13890661,  0.73418474],\n",
       "       [ 1.90486293,  0.04804751,  0.16047063],\n",
       "       [ 1.16885347, -0.1645025 ,  0.28246088],\n",
       "       [ 2.10765373,  0.37148225,  0.02743786],\n",
       "       [ 2.31430339,  0.18260885,  0.3228604 ],\n",
       "       [ 1.92245088,  0.40927118,  0.11549282],\n",
       "       [ 1.41407223, -0.57492506,  0.29639822],\n",
       "       [ 2.56332271,  0.2759745 ,  0.29125361],\n",
       "       [ 2.41939122,  0.30350394,  0.50430252],\n",
       "       [ 1.94401705,  0.18741522,  0.17930287],\n",
       "       [ 1.52566363, -0.37502085, -0.12063644],\n",
       "       [ 1.76404594,  0.07851919,  0.13078405],\n",
       "       [ 1.90162908,  0.11587675,  0.72287356],\n",
       "       [ 1.38966613, -0.28288671,  0.36231783]])"
      ]
     },
     "execution_count": 33,
     "metadata": {},
     "output_type": "execute_result"
    }
   ],
   "source": [
    "data  = PCA(n_components=3)\n",
    "data.fit(dt)\n",
    "print('Principle component')\n",
    "print(data.components_)\n",
    "print('Transforming in to 3D shape from 4D shape')\n",
    "data.transform(dt)[:,:]"
   ]
  },
  {
   "cell_type": "code",
   "execution_count": 81,
   "metadata": {},
   "outputs": [],
   "source": [
    "v1 = data.transform(dt)[:,:1]\n",
    "v2 = data.transform(dt)[:,1:2]\n",
    "v3 = data.transform(dt)[:,2:3]"
   ]
  },
  {
   "cell_type": "code",
   "execution_count": 83,
   "metadata": {},
   "outputs": [
    {
     "name": "stdout",
     "output_type": "stream",
     "text": [
      "150\n"
     ]
    },
    {
     "data": {
      "image/png": "[encoded data removed]",
      "text/plain": [
       "<Figure size 432x288 with 1 Axes>"
      ]
     },
     "metadata": {
      "needs_background": "light"
     },
     "output_type": "display_data"
    }
   ],
   "source": [
    "from mpl_toolkits.mplot3d import Axes3D\n",
    "from mpl_toolkits.mplot3d.art3d import Poly3DCollection\n",
    "import matplotlib.pyplot as plt\n",
    "\n",
    "v1_lst = []\n",
    "v2_lst = []\n",
    "v3_lst = []\n",
    "\n",
    "for i in range(v1.shape[0]):\n",
    "    v1_lst.append(v1[i][0])\n",
    "\n",
    "for j in range(v2.shape[0]):\n",
    "    v2_lst.append(v2[j][0])\n",
    "\n",
    "for k in range(v3.shape[0]):\n",
    "    v3_lst.append(v3[k][0])\n",
    "    \n",
    "fig = plt.figure()\n",
    "ax = Axes3D(fig)\n",
    "x= v1_lst\n",
    "y= v2_lst\n",
    "z= v3_lst\n",
    "print(v1.shape[0])\n",
    "verts = [list(zip(x, y, z))]\n",
    "#print(verts)\n",
    "ax.add_collection3d(Poly3DCollection(verts), zs='z')\n",
    "plt.show()"
   ]
  },
  {
   "cell_type": "markdown",
   "metadata": {},
   "source": []
  },
  {
   "cell_type": "code",
   "execution_count": null,
   "metadata": {},
   "outputs": [],
   "source": []
  }
 ],
 "metadata": {
  "kernelspec": {
   "display_name": "Python 3",
   "language": "python",
   "name": "python3"
  },
  "language_info": {
   "codemirror_mode": {
    "name": "ipython",
    "version": 3
   },
   "file_extension": ".py",
   "mimetype": "text/x-python",
   "name": "python",
   "nbconvert_exporter": "python",
   "pygments_lexer": "ipython3",
   "version": "3.7.0"
  }
 },
 "nbformat": 4,
 "nbformat_minor": 2
}
